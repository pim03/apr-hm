{
 "cells": [
  {
   "cell_type": "markdown",
   "metadata": {},
   "source": [
    "# Homework 3 #"
   ]
  },
  {
   "cell_type": "markdown",
   "metadata": {},
   "source": [
    "Create the dataset.  <br/>\n",
    "Separate variables and target - \"quality\"."
   ]
  },
  {
   "cell_type": "code",
   "execution_count": 103,
   "metadata": {},
   "outputs": [],
   "source": [
    "import pandas as pd\n",
    "# Reading the csv file\n",
    "df = pd.read_csv('winequality-red.csv')\n",
    "# Separating the variables from the target\n",
    "variables = df.drop(\"quality\", axis= 1)\n",
    "target = df['quality']"
   ]
  },
  {
   "cell_type": "markdown",
   "metadata": {},
   "source": [
    "Do a 80-20 train-test split using a fixed seed."
   ]
  },
  {
   "cell_type": "code",
   "execution_count": 104,
   "metadata": {},
   "outputs": [],
   "source": [
    "from sklearn.model_selection import train_test_split\n",
    "# Training Test Split\n",
    "variables_train, variables_test, target_train, target_test= train_test_split(variables, target, \n",
    "                                                                         train_size=0.8, random_state=0)"
   ]
  },
  {
   "cell_type": "markdown",
   "metadata": {},
   "source": [
    "### Exercise 1 ##\n",
    "\n",
    "Learn 10 MLP regressors with the parameters specified but with different seeds (from 1 to 10). Calculate residues and save them in an array."
   ]
  },
  {
   "cell_type": "code",
   "execution_count": 105,
   "metadata": {},
   "outputs": [
    {
     "name": "stderr",
     "output_type": "stream",
     "text": [
      "/usr/local/lib/python3.11/site-packages/sklearn/neural_network/_multilayer_perceptron.py:691: ConvergenceWarning: Stochastic Optimizer: Maximum iterations (200) reached and the optimization hasn't converged yet.\n",
      "  warnings.warn(\n",
      "/usr/local/lib/python3.11/site-packages/sklearn/neural_network/_multilayer_perceptron.py:691: ConvergenceWarning: Stochastic Optimizer: Maximum iterations (200) reached and the optimization hasn't converged yet.\n",
      "  warnings.warn(\n",
      "/usr/local/lib/python3.11/site-packages/sklearn/neural_network/_multilayer_perceptron.py:691: ConvergenceWarning: Stochastic Optimizer: Maximum iterations (200) reached and the optimization hasn't converged yet.\n",
      "  warnings.warn(\n",
      "/usr/local/lib/python3.11/site-packages/sklearn/neural_network/_multilayer_perceptron.py:691: ConvergenceWarning: Stochastic Optimizer: Maximum iterations (200) reached and the optimization hasn't converged yet.\n",
      "  warnings.warn(\n",
      "/usr/local/lib/python3.11/site-packages/sklearn/neural_network/_multilayer_perceptron.py:691: ConvergenceWarning: Stochastic Optimizer: Maximum iterations (200) reached and the optimization hasn't converged yet.\n",
      "  warnings.warn(\n",
      "/usr/local/lib/python3.11/site-packages/sklearn/neural_network/_multilayer_perceptron.py:691: ConvergenceWarning: Stochastic Optimizer: Maximum iterations (200) reached and the optimization hasn't converged yet.\n",
      "  warnings.warn(\n",
      "/usr/local/lib/python3.11/site-packages/sklearn/neural_network/_multilayer_perceptron.py:691: ConvergenceWarning: Stochastic Optimizer: Maximum iterations (200) reached and the optimization hasn't converged yet.\n",
      "  warnings.warn(\n"
     ]
    }
   ],
   "source": [
    "import numpy as np\n",
    "from sklearn.neural_network import MLPRegressor\n",
    "\n",
    "######### Exercise 1 ##########\n",
    "\n",
    "residues = np.array([])\n",
    "\n",
    "for i in range(1, 11):\n",
    "    # Learn the MLP regressor \n",
    "    mlp = MLPRegressor(hidden_layer_sizes=(10,10), activation='relu', early_stopping=True, validation_fraction=0.2, random_state=i)\n",
    "    #Predict output\n",
    "    y_pred = mlp.fit(variables_train,target_train).predict(variables_test)\n",
    "    #Calculate residues\n",
    "    residue = abs(target_test - y_pred)\n",
    "    residue = residue.to_numpy()\n",
    "    residues = np.append(residues, residue)"
   ]
  },
  {
   "cell_type": "markdown",
   "metadata": {},
   "source": [
    "Plot the residues using an histogram."
   ]
  },
  {
   "cell_type": "code",
   "execution_count": 106,
   "metadata": {},
   "outputs": [
    {
     "data": {
      "image/png": "[encoded data removed]",
      "text/plain": [
       "<Figure size 640x480 with 1 Axes>"
      ]
     },
     "metadata": {},
     "output_type": "display_data"
    }
   ],
   "source": [
    "import matplotlib.pyplot as plt\n",
    "\n",
    "#Plot all the residues\n",
    "plt.hist(residues, edgecolor='black',bins='auto')\n",
    "plt.title('Histogram of the residues')\n",
    "plt.xlabel('Residues')\n",
    "plt.ylabel('Frequency')\n",
    "plt.savefig('ex1_histogram.png')\n",
    "plt.show()"
   ]
  },
  {
   "cell_type": "markdown",
   "metadata": {},
   "source": [
    "### Exercise 2 ###\n",
    "\n",
    "Learn an MLP regressor with seeds from 1 to 10 and calculate de mean absolute error of:\n",
    "- the predicted output\n",
    "- the predicted output rounded to the nearest integer\n",
    "- the predicted output bounded between 1 and 10\n",
    "- the predicted output rounded to the nearest integer and bounded between 1 and 10\n",
    "\n",
    "Calculate the mean of these MAES and print the results."
   ]
  },
  {
   "cell_type": "code",
   "execution_count": 107,
   "metadata": {},
   "outputs": [
    {
     "name": "stderr",
     "output_type": "stream",
     "text": [
      "/usr/local/lib/python3.11/site-packages/sklearn/neural_network/_multilayer_perceptron.py:691: ConvergenceWarning: Stochastic Optimizer: Maximum iterations (200) reached and the optimization hasn't converged yet.\n",
      "  warnings.warn(\n",
      "/usr/local/lib/python3.11/site-packages/sklearn/neural_network/_multilayer_perceptron.py:691: ConvergenceWarning: Stochastic Optimizer: Maximum iterations (200) reached and the optimization hasn't converged yet.\n",
      "  warnings.warn(\n",
      "/usr/local/lib/python3.11/site-packages/sklearn/neural_network/_multilayer_perceptron.py:691: ConvergenceWarning: Stochastic Optimizer: Maximum iterations (200) reached and the optimization hasn't converged yet.\n",
      "  warnings.warn(\n",
      "/usr/local/lib/python3.11/site-packages/sklearn/neural_network/_multilayer_perceptron.py:691: ConvergenceWarning: Stochastic Optimizer: Maximum iterations (200) reached and the optimization hasn't converged yet.\n",
      "  warnings.warn(\n",
      "/usr/local/lib/python3.11/site-packages/sklearn/neural_network/_multilayer_perceptron.py:691: ConvergenceWarning: Stochastic Optimizer: Maximum iterations (200) reached and the optimization hasn't converged yet.\n",
      "  warnings.warn(\n",
      "/usr/local/lib/python3.11/site-packages/sklearn/neural_network/_multilayer_perceptron.py:691: ConvergenceWarning: Stochastic Optimizer: Maximum iterations (200) reached and the optimization hasn't converged yet.\n",
      "  warnings.warn(\n"
     ]
    },
    {
     "name": "stdout",
     "output_type": "stream",
     "text": [
      "MAE (not rounded and not bounded):  0.5097171955009514\n",
      "MAE (rounded):  0.43875000000000003\n",
      "MAE (bounded):  0.5097171955009514\n",
      "MAE (rounded and bounded):  0.43875000000000003\n"
     ]
    },
    {
     "name": "stderr",
     "output_type": "stream",
     "text": [
      "/usr/local/lib/python3.11/site-packages/sklearn/neural_network/_multilayer_perceptron.py:691: ConvergenceWarning: Stochastic Optimizer: Maximum iterations (200) reached and the optimization hasn't converged yet.\n",
      "  warnings.warn(\n"
     ]
    }
   ],
   "source": [
    "# Round and bound the predictions\n",
    "mae_array = np.array([])\n",
    "mae_bounded_array = np.array([])\n",
    "mae_rounded_array = np.array([])\n",
    "mae_rounded_and_bounded_array = np.array([])\n",
    "\n",
    "for i in range(1, 11):\n",
    "    # Learn the MLP regressor \n",
    "    mlp = MLPRegressor(hidden_layer_sizes=(10,10), activation='relu', early_stopping=True, validation_fraction=0.2, random_state=i)\n",
    "\n",
    "    #Calculate MAE\n",
    "    y_pred = mlp.fit(variables_train,target_train).predict(variables_test)\n",
    "    mae = np.mean(abs(target_test - y_pred))\n",
    "    mae_array = np.append(mae_array, mae)\n",
    "    \n",
    "    #Calculate MAE - rounded\n",
    "    y_pred_rounded = np.round(y_pred)\n",
    "    mae_rounded = np.mean(abs(target_test - y_pred_rounded))\n",
    "    mae_rounded_array = np.append(mae_rounded_array, mae_rounded)\n",
    "    \n",
    "    #Calculate MAE - bounded\n",
    "    y_pred_bounded = np.clip(y_pred, a_min=1, a_max=10)\n",
    "    mae_bounded = np.mean(abs(target_test - y_pred_bounded))\n",
    "    mae_bounded_array = np.append(mae_bounded_array, mae_bounded)\n",
    "\n",
    "    ##Calculate MAE - rounded and bounded\n",
    "    y_pred_rounded_and_bounded = np.clip(y_pred_rounded, a_min=1, a_max=10)\n",
    "    mae_rounded_and_bounded = np.mean(abs(target_test - y_pred_rounded_and_bounded))\n",
    "    mae_rounded_and_bounded_array = np.append(mae_rounded_and_bounded_array, mae_rounded_and_bounded)\n",
    "\n",
    "mean_mae = np.mean(mae_array)\n",
    "mean_mae_rounded = np.mean(mae_rounded_array)\n",
    "mean_mae_bounded = np.mean(mae_bounded_array)\n",
    "mean_mae_rounded_and_bounded = np.mean(mae_rounded_and_bounded_array)\n",
    "\n",
    "# Print the results\n",
    "print('MAE (not rounded and not bounded): ', mean_mae)\n",
    "print('MAE (rounded): ', mean_mae_rounded)\n",
    "print('MAE (bounded): ', mean_mae_bounded)\n",
    "print('MAE (rounded and bounded): ', mean_mae_rounded_and_bounded)\n",
    "\n"
   ]
  },
  {
   "cell_type": "markdown",
   "metadata": {},
   "source": [
    "### Exercise 3 ###\n",
    "\n",
    "Calculate the RMSE of the predicted outputs of the MLP's seeded from 1 to 10.\n",
    "Calculate the mean of these 10 RMSE's."
   ]
  },
  {
   "cell_type": "code",
   "execution_count": 108,
   "metadata": {},
   "outputs": [
    {
     "name": "stderr",
     "output_type": "stream",
     "text": [
      "/usr/local/lib/python3.11/site-packages/sklearn/neural_network/_multilayer_perceptron.py:691: ConvergenceWarning: Stochastic Optimizer: Maximum iterations (200) reached and the optimization hasn't converged yet.\n",
      "  warnings.warn(\n",
      "/usr/local/lib/python3.11/site-packages/sklearn/neural_network/_multilayer_perceptron.py:691: ConvergenceWarning: Stochastic Optimizer: Maximum iterations (200) reached and the optimization hasn't converged yet.\n",
      "  warnings.warn(\n",
      "/usr/local/lib/python3.11/site-packages/sklearn/neural_network/_multilayer_perceptron.py:691: ConvergenceWarning: Stochastic Optimizer: Maximum iterations (200) reached and the optimization hasn't converged yet.\n",
      "  warnings.warn(\n",
      "/usr/local/lib/python3.11/site-packages/sklearn/neural_network/_multilayer_perceptron.py:691: ConvergenceWarning: Stochastic Optimizer: Maximum iterations (200) reached and the optimization hasn't converged yet.\n",
      "  warnings.warn(\n",
      "/usr/local/lib/python3.11/site-packages/sklearn/neural_network/_multilayer_perceptron.py:691: ConvergenceWarning: Stochastic Optimizer: Maximum iterations (200) reached and the optimization hasn't converged yet.\n",
      "  warnings.warn(\n",
      "/usr/local/lib/python3.11/site-packages/sklearn/neural_network/_multilayer_perceptron.py:691: ConvergenceWarning: Stochastic Optimizer: Maximum iterations (200) reached and the optimization hasn't converged yet.\n",
      "  warnings.warn(\n",
      "/usr/local/lib/python3.11/site-packages/sklearn/neural_network/_multilayer_perceptron.py:691: ConvergenceWarning: Stochastic Optimizer: Maximum iterations (200) reached and the optimization hasn't converged yet.\n",
      "  warnings.warn(\n"
     ]
    }
   ],
   "source": [
    "sum_rmse_old = 0\n",
    "for i in range(1, 11):\n",
    "    #Learn the old MLP regressor\n",
    "    mlp = MLPRegressor(hidden_layer_sizes=(10,10), activation='relu', early_stopping=True, validation_fraction=0.2, random_state=i)\n",
    "    #Predict old output\n",
    "    y_pred_old = mlp.fit(variables_train,target_train).predict(variables_test)\n",
    "    #Calculate old RMSE\n",
    "    rmse = np.sqrt(np.mean((target_test - y_pred_old) ** 2))\n",
    "    sum_rmse_old += rmse\n",
    "\n",
    "average_rmse_old = np.mean(sum_rmse_old/10)\n"
   ]
  },
  {
   "cell_type": "markdown",
   "metadata": {},
   "source": [
    "Learn MLP regressors with the same parameters as before except early stopping, instead stopping after 20, 50, 100 and 200 iterations. Calculate their root mean squared error. This RMSE is considered to be the average between 10 RMSE's calculated for each of the MLP's with seeds 1-10."
   ]
  },
  {
   "cell_type": "code",
   "execution_count": null,
   "metadata": {},
   "outputs": [],
   "source": [
    "# Calculate the RMSE for each number of iterations\n",
    "new_rmse_array = []\n",
    "iter_array = [20,50,100,200]\n",
    "for iter in iter_array:\n",
    "    y_pred_new = np.zeros(len(target_test))\n",
    "    sum_rmse_new = 0\n",
    "    for i in range(1, 11):\n",
    "        # Learn the new MLP regressor \n",
    "        mlp = MLPRegressor(hidden_layer_sizes=(10,10), activation='relu', solver='adam', max_iter = iter, random_state=i)\n",
    "        #Predict new output\n",
    "        y_pred_new = mlp.fit(variables_train,target_train).predict(variables_test)\n",
    "        #Calculate new RMSE\n",
    "        rmse = np.sqrt(np.mean((target_test - y_pred_new) ** 2))\n",
    "        sum_rmse_new += rmse\n",
    "    #Append new RMSE\n",
    "    new_rmse_array += [sum_rmse_new/10]"
   ]
  },
  {
   "cell_type": "markdown",
   "metadata": {},
   "source": [
    "Define the constant function with the RMSE value calculated when early stopping is in effect. Plot the new RMSE's against the maximum number of iteration of the regressor and the old RMSE."
   ]
  },
  {
   "cell_type": "code",
   "execution_count": 110,
   "metadata": {},
   "outputs": [
    {
     "data": {
      "image/png": "[encoded data removed]",
      "text/plain": [
       "<Figure size 640x480 with 1 Axes>"
      ]
     },
     "metadata": {},
     "output_type": "display_data"
    }
   ],
   "source": [
    "def const(x): return average_rmse_old\n",
    "\n",
    "# Plot the RMSE\n",
    "plt.plot(iter_array, new_rmse_array, '-o', label='RMSE')\n",
    "plt.hlines(average_rmse_old, xmin=min(iter_array), xmax=max(iter_array), colors='r', linestyles='dashed')\n",
    "plt.xlabel('Number of iterations') \n",
    "plt.ylabel('RMSE')\n",
    "plt.title('RMSE vs number of iterations')\n",
    "plt.savefig('ex3_rmse.png')\n",
    "plt.show()\n"
   ]
  }
 ],
 "metadata": {
  "kernelspec": {
   "display_name": "Python 3",
   "language": "python",
   "name": "python3"
  },
  "language_info": {
   "codemirror_mode": {
    "name": "ipython",
    "version": 3
   },
   "file_extension": ".py",
   "mimetype": "text/x-python",
   "name": "python",
   "nbconvert_exporter": "python",
   "pygments_lexer": "ipython3",
   "version": "3.8.10"
  }
 },
 "nbformat": 4,
 "nbformat_minor": 2
}
